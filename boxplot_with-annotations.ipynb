{
 "cells": [
  {
   "cell_type": "markdown",
   "metadata": {},
   "source": [
    "# Definitions"
   ]
  },
  {
   "cell_type": "code",
   "execution_count": 1,
   "metadata": {},
   "outputs": [],
   "source": [
    "import matplotlib.pyplot as plt\n",
    "import pandas as pd\n",
    "import numpy as np\n",
    "import seaborn as sns\n",
    "from plottingFunctions import plot_daily_boxplot_with_annot"
   ]
  },
  {
   "cell_type": "markdown",
   "metadata": {},
   "source": [
    "# data preparation"
   ]
  },
  {
   "cell_type": "code",
   "execution_count": 2,
   "metadata": {},
   "outputs": [
    {
     "data": {
      "text/html": [
       "<div>\n",
       "<style scoped>\n",
       "    .dataframe tbody tr th:only-of-type {\n",
       "        vertical-align: middle;\n",
       "    }\n",
       "\n",
       "    .dataframe tbody tr th {\n",
       "        vertical-align: top;\n",
       "    }\n",
       "\n",
       "    .dataframe thead th {\n",
       "        text-align: right;\n",
       "    }\n",
       "</style>\n",
       "<table border=\"1\" class=\"dataframe\">\n",
       "  <thead>\n",
       "    <tr style=\"text-align: right;\">\n",
       "      <th></th>\n",
       "      <th>date</th>\n",
       "      <th>value</th>\n",
       "    </tr>\n",
       "  </thead>\n",
       "  <tbody>\n",
       "    <tr>\n",
       "      <th>0</th>\n",
       "      <td>2023-01-01</td>\n",
       "      <td>18</td>\n",
       "    </tr>\n",
       "    <tr>\n",
       "      <th>1</th>\n",
       "      <td>2023-01-01</td>\n",
       "      <td>93</td>\n",
       "    </tr>\n",
       "    <tr>\n",
       "      <th>2</th>\n",
       "      <td>2023-01-01</td>\n",
       "      <td>58</td>\n",
       "    </tr>\n",
       "    <tr>\n",
       "      <th>3</th>\n",
       "      <td>2023-01-01</td>\n",
       "      <td>53</td>\n",
       "    </tr>\n",
       "    <tr>\n",
       "      <th>4</th>\n",
       "      <td>2023-01-01</td>\n",
       "      <td>88</td>\n",
       "    </tr>\n",
       "    <tr>\n",
       "      <th>...</th>\n",
       "      <td>...</td>\n",
       "      <td>...</td>\n",
       "    </tr>\n",
       "    <tr>\n",
       "      <th>595</th>\n",
       "      <td>2023-01-30</td>\n",
       "      <td>75</td>\n",
       "    </tr>\n",
       "    <tr>\n",
       "      <th>596</th>\n",
       "      <td>2023-01-30</td>\n",
       "      <td>68</td>\n",
       "    </tr>\n",
       "    <tr>\n",
       "      <th>597</th>\n",
       "      <td>2023-01-30</td>\n",
       "      <td>11</td>\n",
       "    </tr>\n",
       "    <tr>\n",
       "      <th>598</th>\n",
       "      <td>2023-01-30</td>\n",
       "      <td>44</td>\n",
       "    </tr>\n",
       "    <tr>\n",
       "      <th>599</th>\n",
       "      <td>2023-01-30</td>\n",
       "      <td>63</td>\n",
       "    </tr>\n",
       "  </tbody>\n",
       "</table>\n",
       "<p>600 rows × 2 columns</p>\n",
       "</div>"
      ],
      "text/plain": [
       "          date  value\n",
       "0   2023-01-01     18\n",
       "1   2023-01-01     93\n",
       "2   2023-01-01     58\n",
       "3   2023-01-01     53\n",
       "4   2023-01-01     88\n",
       "..         ...    ...\n",
       "595 2023-01-30     75\n",
       "596 2023-01-30     68\n",
       "597 2023-01-30     11\n",
       "598 2023-01-30     44\n",
       "599 2023-01-30     63\n",
       "\n",
       "[600 rows x 2 columns]"
      ]
     },
     "execution_count": 2,
     "metadata": {},
     "output_type": "execute_result"
    }
   ],
   "source": [
    "\n",
    "numdates=30\n",
    "# Example data\n",
    "values=np.random.randint(1, 100, size=[numdates,20])\n",
    "dates=pd.date_range('2023-01-01', periods=numdates)\n",
    "data = pd.DataFrame(data=values,index=dates)\n",
    "data=data.transpose().melt(var_name='date', value_name='value')\n",
    "data.reset_index()\n",
    "\n",
    "datetime_intervals = pd.DataFrame([\n",
    "    (pd.to_datetime('2023-01-15'), pd.to_datetime('2023-01-20')),\n",
    "    (pd.to_datetime('2023-01-10 13:13'), pd.to_datetime('2023-06-13'))\n",
    "])\n",
    "\n",
    "\n",
    "datetime_intervals_2 = pd.DataFrame([\n",
    "    (pd.to_datetime('2023-01-22'), pd.to_datetime('2023-01-24')),    \n",
    "    (pd.to_datetime('2023-01-1 13:13'), pd.to_datetime('2023-1-3'))\n",
    "    ]    )\n",
    "\n",
    "data"
   ]
  },
  {
   "cell_type": "code",
   "execution_count": 3,
   "metadata": {},
   "outputs": [
    {
     "data": {
      "text/html": [
       "<div>\n",
       "<style scoped>\n",
       "    .dataframe tbody tr th:only-of-type {\n",
       "        vertical-align: middle;\n",
       "    }\n",
       "\n",
       "    .dataframe tbody tr th {\n",
       "        vertical-align: top;\n",
       "    }\n",
       "\n",
       "    .dataframe thead th {\n",
       "        text-align: right;\n",
       "    }\n",
       "</style>\n",
       "<table border=\"1\" class=\"dataframe\">\n",
       "  <thead>\n",
       "    <tr style=\"text-align: right;\">\n",
       "      <th></th>\n",
       "      <th>0</th>\n",
       "      <th>1</th>\n",
       "    </tr>\n",
       "  </thead>\n",
       "  <tbody>\n",
       "    <tr>\n",
       "      <th>0</th>\n",
       "      <td>2023-01-15 00:00:00</td>\n",
       "      <td>2023-01-20</td>\n",
       "    </tr>\n",
       "    <tr>\n",
       "      <th>1</th>\n",
       "      <td>2023-01-10 13:13:00</td>\n",
       "      <td>2023-06-13</td>\n",
       "    </tr>\n",
       "  </tbody>\n",
       "</table>\n",
       "</div>"
      ],
      "text/plain": [
       "                    0          1\n",
       "0 2023-01-15 00:00:00 2023-01-20\n",
       "1 2023-01-10 13:13:00 2023-06-13"
      ]
     },
     "execution_count": 3,
     "metadata": {},
     "output_type": "execute_result"
    }
   ],
   "source": [
    "datetime_intervals"
   ]
  },
  {
   "cell_type": "code",
   "execution_count": 4,
   "metadata": {},
   "outputs": [
    {
     "name": "stdout",
     "output_type": "stream",
     "text": [
      "738535\n",
      "738540\n",
      "738530\n",
      "738684\n"
     ]
    }
   ],
   "source": [
    "for i,interval in datetime_intervals.iterrows():\n",
    "    start_date = interval[0].toordinal()\n",
    "    print(start_date)\n",
    "    end_date = interval[1].toordinal()\n",
    "    print(end_date)\n",
    "    gf_dates=[start_date,end_date]"
   ]
  },
  {
   "cell_type": "code",
   "execution_count": 5,
   "metadata": {},
   "outputs": [
    {
     "data": {
      "text/plain": [
       "date     datetime64[ns]\n",
       "value             int32\n",
       "dtype: object"
      ]
     },
     "execution_count": 5,
     "metadata": {},
     "output_type": "execute_result"
    }
   ],
   "source": [
    "data.dtypes"
   ]
  },
  {
   "cell_type": "markdown",
   "metadata": {},
   "source": [
    "# plotting"
   ]
  },
  {
   "cell_type": "code",
   "execution_count": 6,
   "metadata": {},
   "outputs": [
    {
     "data": {
      "text/html": [
       "<div>\n",
       "<style scoped>\n",
       "    .dataframe tbody tr th:only-of-type {\n",
       "        vertical-align: middle;\n",
       "    }\n",
       "\n",
       "    .dataframe tbody tr th {\n",
       "        vertical-align: top;\n",
       "    }\n",
       "\n",
       "    .dataframe thead th {\n",
       "        text-align: right;\n",
       "    }\n",
       "</style>\n",
       "<table border=\"1\" class=\"dataframe\">\n",
       "  <thead>\n",
       "    <tr style=\"text-align: right;\">\n",
       "      <th></th>\n",
       "      <th>date</th>\n",
       "      <th>value</th>\n",
       "    </tr>\n",
       "  </thead>\n",
       "  <tbody>\n",
       "    <tr>\n",
       "      <th>20</th>\n",
       "      <td>2023-01-02</td>\n",
       "      <td>15</td>\n",
       "    </tr>\n",
       "    <tr>\n",
       "      <th>21</th>\n",
       "      <td>2023-01-02</td>\n",
       "      <td>91</td>\n",
       "    </tr>\n",
       "    <tr>\n",
       "      <th>22</th>\n",
       "      <td>2023-01-02</td>\n",
       "      <td>83</td>\n",
       "    </tr>\n",
       "    <tr>\n",
       "      <th>23</th>\n",
       "      <td>2023-01-02</td>\n",
       "      <td>48</td>\n",
       "    </tr>\n",
       "    <tr>\n",
       "      <th>24</th>\n",
       "      <td>2023-01-02</td>\n",
       "      <td>24</td>\n",
       "    </tr>\n",
       "    <tr>\n",
       "      <th>...</th>\n",
       "      <td>...</td>\n",
       "      <td>...</td>\n",
       "    </tr>\n",
       "    <tr>\n",
       "      <th>595</th>\n",
       "      <td>2023-01-30</td>\n",
       "      <td>75</td>\n",
       "    </tr>\n",
       "    <tr>\n",
       "      <th>596</th>\n",
       "      <td>2023-01-30</td>\n",
       "      <td>68</td>\n",
       "    </tr>\n",
       "    <tr>\n",
       "      <th>597</th>\n",
       "      <td>2023-01-30</td>\n",
       "      <td>11</td>\n",
       "    </tr>\n",
       "    <tr>\n",
       "      <th>598</th>\n",
       "      <td>2023-01-30</td>\n",
       "      <td>44</td>\n",
       "    </tr>\n",
       "    <tr>\n",
       "      <th>599</th>\n",
       "      <td>2023-01-30</td>\n",
       "      <td>63</td>\n",
       "    </tr>\n",
       "  </tbody>\n",
       "</table>\n",
       "<p>580 rows × 2 columns</p>\n",
       "</div>"
      ],
      "text/plain": [
       "          date  value\n",
       "20  2023-01-02     15\n",
       "21  2023-01-02     91\n",
       "22  2023-01-02     83\n",
       "23  2023-01-02     48\n",
       "24  2023-01-02     24\n",
       "..         ...    ...\n",
       "595 2023-01-30     75\n",
       "596 2023-01-30     68\n",
       "597 2023-01-30     11\n",
       "598 2023-01-30     44\n",
       "599 2023-01-30     63\n",
       "\n",
       "[580 rows x 2 columns]"
      ]
     },
     "execution_count": 6,
     "metadata": {},
     "output_type": "execute_result"
    }
   ],
   "source": [
    "data.loc[data['date']!=\"2023-01-1\"]"
   ]
  },
  {
   "cell_type": "code",
   "execution_count": 7,
   "metadata": {},
   "outputs": [
    {
     "data": {
      "text/html": [
       "<div>\n",
       "<style scoped>\n",
       "    .dataframe tbody tr th:only-of-type {\n",
       "        vertical-align: middle;\n",
       "    }\n",
       "\n",
       "    .dataframe tbody tr th {\n",
       "        vertical-align: top;\n",
       "    }\n",
       "\n",
       "    .dataframe thead th {\n",
       "        text-align: right;\n",
       "    }\n",
       "</style>\n",
       "<table border=\"1\" class=\"dataframe\">\n",
       "  <thead>\n",
       "    <tr style=\"text-align: right;\">\n",
       "      <th></th>\n",
       "      <th>date</th>\n",
       "      <th>value</th>\n",
       "    </tr>\n",
       "  </thead>\n",
       "  <tbody>\n",
       "    <tr>\n",
       "      <th>0</th>\n",
       "      <td>2023-01-01</td>\n",
       "      <td>18</td>\n",
       "    </tr>\n",
       "    <tr>\n",
       "      <th>1</th>\n",
       "      <td>2023-01-01</td>\n",
       "      <td>93</td>\n",
       "    </tr>\n",
       "    <tr>\n",
       "      <th>2</th>\n",
       "      <td>2023-01-01</td>\n",
       "      <td>58</td>\n",
       "    </tr>\n",
       "    <tr>\n",
       "      <th>3</th>\n",
       "      <td>2023-01-01</td>\n",
       "      <td>53</td>\n",
       "    </tr>\n",
       "    <tr>\n",
       "      <th>4</th>\n",
       "      <td>2023-01-01</td>\n",
       "      <td>88</td>\n",
       "    </tr>\n",
       "    <tr>\n",
       "      <th>...</th>\n",
       "      <td>...</td>\n",
       "      <td>...</td>\n",
       "    </tr>\n",
       "    <tr>\n",
       "      <th>595</th>\n",
       "      <td>2023-01-30</td>\n",
       "      <td>75</td>\n",
       "    </tr>\n",
       "    <tr>\n",
       "      <th>596</th>\n",
       "      <td>2023-01-30</td>\n",
       "      <td>68</td>\n",
       "    </tr>\n",
       "    <tr>\n",
       "      <th>597</th>\n",
       "      <td>2023-01-30</td>\n",
       "      <td>11</td>\n",
       "    </tr>\n",
       "    <tr>\n",
       "      <th>598</th>\n",
       "      <td>2023-01-30</td>\n",
       "      <td>44</td>\n",
       "    </tr>\n",
       "    <tr>\n",
       "      <th>599</th>\n",
       "      <td>2023-01-30</td>\n",
       "      <td>63</td>\n",
       "    </tr>\n",
       "  </tbody>\n",
       "</table>\n",
       "<p>600 rows × 2 columns</p>\n",
       "</div>"
      ],
      "text/plain": [
       "          date  value\n",
       "0   2023-01-01     18\n",
       "1   2023-01-01     93\n",
       "2   2023-01-01     58\n",
       "3   2023-01-01     53\n",
       "4   2023-01-01     88\n",
       "..         ...    ...\n",
       "595 2023-01-30     75\n",
       "596 2023-01-30     68\n",
       "597 2023-01-30     11\n",
       "598 2023-01-30     44\n",
       "599 2023-01-30     63\n",
       "\n",
       "[600 rows x 2 columns]"
      ]
     },
     "execution_count": 7,
     "metadata": {},
     "output_type": "execute_result"
    }
   ],
   "source": [
    "data"
   ]
  },
  {
   "cell_type": "code",
   "execution_count": 8,
   "metadata": {},
   "outputs": [
    {
     "data": {
      "text/html": [
       "<div>\n",
       "<style scoped>\n",
       "    .dataframe tbody tr th:only-of-type {\n",
       "        vertical-align: middle;\n",
       "    }\n",
       "\n",
       "    .dataframe tbody tr th {\n",
       "        vertical-align: top;\n",
       "    }\n",
       "\n",
       "    .dataframe thead th {\n",
       "        text-align: right;\n",
       "    }\n",
       "</style>\n",
       "<table border=\"1\" class=\"dataframe\">\n",
       "  <thead>\n",
       "    <tr style=\"text-align: right;\">\n",
       "      <th></th>\n",
       "      <th>0</th>\n",
       "      <th>1</th>\n",
       "    </tr>\n",
       "  </thead>\n",
       "  <tbody>\n",
       "    <tr>\n",
       "      <th>0</th>\n",
       "      <td>2023-01-15 00:00:00</td>\n",
       "      <td>2023-01-20</td>\n",
       "    </tr>\n",
       "    <tr>\n",
       "      <th>1</th>\n",
       "      <td>2023-01-10 13:13:00</td>\n",
       "      <td>2023-06-13</td>\n",
       "    </tr>\n",
       "  </tbody>\n",
       "</table>\n",
       "</div>"
      ],
      "text/plain": [
       "                    0          1\n",
       "0 2023-01-15 00:00:00 2023-01-20\n",
       "1 2023-01-10 13:13:00 2023-06-13"
      ]
     },
     "execution_count": 8,
     "metadata": {},
     "output_type": "execute_result"
    }
   ],
   "source": [
    "datetime_intervals"
   ]
  },
  {
   "cell_type": "code",
   "execution_count": 11,
   "metadata": {},
   "outputs": [
    {
     "name": "stdout",
     "output_type": "stream",
     "text": [
      "xtickslabel:\n",
      "Locs: [ 0  1  2  3  4  5  6  7  8  9 10 11 12 13 14 15 16 17 18 19 20 21 22 23\n",
      " 24 25 26 27 28]\n",
      "Labels: [Text(0, 0, '2023-01-01'), Text(1, 0, '2023-01-02'), Text(2, 0, '2023-01-04'), Text(3, 0, '2023-01-05'), Text(4, 0, '2023-01-06'), Text(5, 0, '2023-01-07'), Text(6, 0, '2023-01-08'), Text(7, 0, '2023-01-09'), Text(8, 0, '2023-01-10'), Text(9, 0, '2023-01-11'), Text(10, 0, '2023-01-12'), Text(11, 0, '2023-01-13'), Text(12, 0, '2023-01-14'), Text(13, 0, '2023-01-15'), Text(14, 0, '2023-01-16'), Text(15, 0, '2023-01-17'), Text(16, 0, '2023-01-18'), Text(17, 0, '2023-01-19'), Text(18, 0, '2023-01-20'), Text(19, 0, '2023-01-21'), Text(20, 0, '2023-01-22'), Text(21, 0, '2023-01-23'), Text(22, 0, '2023-01-24'), Text(23, 0, '2023-01-25'), Text(24, 0, '2023-01-26'), Text(25, 0, '2023-01-27'), Text(26, 0, '2023-01-28'), Text(27, 0, '2023-01-29'), Text(28, 0, '2023-01-30')]\n",
      "Locs: [ 0  1  2  3  4  5  6  7  8  9 10 11 12 13 14 15 16 17 18 19 20 21 22 23\n",
      " 24 25 26 27 28]\n",
      "Labels: [Text(0, 0, '2023-01-01'), Text(1, 0, '2023-01-02'), Text(2, 0, '2023-01-04'), Text(3, 0, '2023-01-05'), Text(4, 0, '2023-01-06'), Text(5, 0, '2023-01-07'), Text(6, 0, '2023-01-08'), Text(7, 0, '2023-01-09'), Text(8, 0, '2023-01-10'), Text(9, 0, '2023-01-11'), Text(10, 0, '2023-01-12'), Text(11, 0, '2023-01-13'), Text(12, 0, '2023-01-14'), Text(13, 0, '2023-01-15'), Text(14, 0, '2023-01-16'), Text(15, 0, '2023-01-17'), Text(16, 0, '2023-01-18'), Text(17, 0, '2023-01-19'), Text(18, 0, '2023-01-20'), Text(19, 0, '2023-01-21'), Text(20, 0, '2023-01-22'), Text(21, 0, '2023-01-23'), Text(22, 0, '2023-01-24'), Text(23, 0, '2023-01-25'), Text(24, 0, '2023-01-26'), Text(25, 0, '2023-01-27'), Text(26, 0, '2023-01-28'), Text(27, 0, '2023-01-29'), Text(28, 0, '2023-01-30')]\n",
      "[ 0  1  2  3  4  5  6  7  8  9 10 11 12 13 14 15 16 17 18 19 20 21 22 23\n",
      " 24 25 26 27 28]\n",
      "738535\n",
      "738540\n",
      "[13. 18.]\n",
      "738530\n",
      "738684\n",
      "[ 8. 28.]\n",
      "738542\n",
      "738544\n",
      "[20. 22.]\n",
      "738521\n",
      "738523\n",
      "[0.  1.5]\n"
     ]
    },
    {
     "data": {
      "image/png": "[encoded data removed]",
      "text/plain": [
       "<Figure size 1000x600 with 1 Axes>"
      ]
     },
     "metadata": {},
     "output_type": "display_data"
    },
    {
     "name": "stdout",
     "output_type": "stream",
     "text": [
      "xtickslabel:\n",
      "Locs: [ 0  1  2  3  4  5  6  7  8  9 10 11 12 13 14 15 16 17 18 19 20 21 22 23\n",
      " 24 25 26 27 28 29]\n",
      "Labels: [Text(0, 0, '2023-01-01'), Text(1, 0, '2023-01-02'), Text(2, 0, '2023-01-03'), Text(3, 0, '2023-01-04'), Text(4, 0, '2023-01-05'), Text(5, 0, '2023-01-06'), Text(6, 0, '2023-01-07'), Text(7, 0, '2023-01-08'), Text(8, 0, '2023-01-09'), Text(9, 0, '2023-01-10'), Text(10, 0, '2023-01-11'), Text(11, 0, '2023-01-12'), Text(12, 0, '2023-01-13'), Text(13, 0, '2023-01-14'), Text(14, 0, '2023-01-15'), Text(15, 0, '2023-01-16'), Text(16, 0, '2023-01-17'), Text(17, 0, '2023-01-18'), Text(18, 0, '2023-01-19'), Text(19, 0, '2023-01-20'), Text(20, 0, '2023-01-21'), Text(21, 0, '2023-01-22'), Text(22, 0, '2023-01-23'), Text(23, 0, '2023-01-24'), Text(24, 0, '2023-01-25'), Text(25, 0, '2023-01-26'), Text(26, 0, '2023-01-27'), Text(27, 0, '2023-01-28'), Text(28, 0, '2023-01-29'), Text(29, 0, '2023-01-30')]\n",
      "Locs: [ 0  1  2  3  4  5  6  7  8  9 10 11 12 13 14 15 16 17 18 19 20 21 22 23\n",
      " 24 25 26 27 28 29]\n",
      "Labels: [Text(0, 0, '2023-01-01'), Text(1, 0, '2023-01-02'), Text(2, 0, '2023-01-03'), Text(3, 0, '2023-01-04'), Text(4, 0, '2023-01-05'), Text(5, 0, '2023-01-06'), Text(6, 0, '2023-01-07'), Text(7, 0, '2023-01-08'), Text(8, 0, '2023-01-09'), Text(9, 0, '2023-01-10'), Text(10, 0, '2023-01-11'), Text(11, 0, '2023-01-12'), Text(12, 0, '2023-01-13'), Text(13, 0, '2023-01-14'), Text(14, 0, '2023-01-15'), Text(15, 0, '2023-01-16'), Text(16, 0, '2023-01-17'), Text(17, 0, '2023-01-18'), Text(18, 0, '2023-01-19'), Text(19, 0, '2023-01-20'), Text(20, 0, '2023-01-21'), Text(21, 0, '2023-01-22'), Text(22, 0, '2023-01-23'), Text(23, 0, '2023-01-24'), Text(24, 0, '2023-01-25'), Text(25, 0, '2023-01-26'), Text(26, 0, '2023-01-27'), Text(27, 0, '2023-01-28'), Text(28, 0, '2023-01-29'), Text(29, 0, '2023-01-30')]\n",
      "[ 0  1  2  3  4  5  6  7  8  9 10 11 12 13 14 15 16 17 18 19 20 21 22 23\n",
      " 24 25 26 27 28 29]\n",
      "738535\n",
      "738540\n",
      "[14. 19.]\n",
      "738530\n",
      "738684\n",
      "[ 9. 29.]\n",
      "738542\n",
      "738544\n",
      "[21. 23.]\n",
      "738521\n",
      "738523\n",
      "[0. 2.]\n"
     ]
    },
    {
     "data": {
      "image/png": "[encoded data removed]",
      "text/plain": [
       "<Figure size 1000x600 with 1 Axes>"
      ]
     },
     "metadata": {},
     "output_type": "display_data"
    }
   ],
   "source": [
    "fig,ax=plot_daily_boxplot_with_annot(data.loc[data['date']!=\"2023-01-3\"],datetime_intervals,datetime_intervals_2)\n",
    "plt.show()\n",
    "fig,ax=plot_daily_boxplot_with_annot(data,datetime_intervals,datetime_intervals_2)\n",
    "\n",
    "ticklabels = ax.get_xticklabels()\n",
    "n = len(ticklabels)\n",
    "maxticks=10\n",
    "step = max(1, n // maxticks)  # show max 7 ticks\n",
    "ax.set_xticks(range(0, n, step))\n",
    "ax.set_xticklabels(ticklabels[::step], rotation=45)\n",
    "plt.show()"
   ]
  }
 ],
 "metadata": {
  "kernelspec": {
   "display_name": "base",
   "language": "python",
   "name": "python3"
  },
  "language_info": {
   "codemirror_mode": {
    "name": "ipython",
    "version": 3
   },
   "file_extension": ".py",
   "mimetype": "text/x-python",
   "name": "python",
   "nbconvert_exporter": "python",
   "pygments_lexer": "ipython3",
   "version": "3.10.13"
  }
 },
 "nbformat": 4,
 "nbformat_minor": 2
}
